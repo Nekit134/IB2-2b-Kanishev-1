{
  "nbformat": 4,
  "nbformat_minor": 0,
  "metadata": {
    "colab": {
      "provenance": [],
      "toc_visible": true,
      "authorship_tag": "ABX9TyMZ2R2Si63UXsLn3xg9V/mT",
      "include_colab_link": true
    },
    "kernelspec": {
      "name": "python3",
      "display_name": "Python 3"
    },
    "language_info": {
      "name": "python"
    }
  },
  "cells": [
    {
      "cell_type": "markdown",
      "metadata": {
        "id": "view-in-github",
        "colab_type": "text"
      },
      "source": [
        "<a href=\"https://colab.research.google.com/github/Nekit134/IB2-2b-Kanishev-1/blob/main/%D0%98%D0%912_2%D0%B1_%D0%9A%D0%B0%D0%BD%D0%B8%D1%89%D0%B5%D0%B2.ipynb\" target=\"_parent\"><img src=\"https://colab.research.google.com/assets/colab-badge.svg\" alt=\"Open In Colab\"/></a>"
      ]
    },
    {
      "cell_type": "code",
      "source": [
        "\"\"\"1) Вывести размер таблицы\"\"\"\n",
        "\n",
        "import pandas as pd\n",
        "\n",
        "df= pd.read_csv('train.csv')\n",
        "\n",
        "print('rows*columns:', df.shape)\n",
        "print('rows:', df.shape[0])\n",
        "print('columns:', df.shape[1])"
      ],
      "metadata": {
        "id": "4huiuq2fbvLJ"
      },
      "execution_count": null,
      "outputs": []
    },
    {
      "cell_type": "code",
      "source": [
        "\"\"\"2) Вывести первые пять строк\"\"\"\n",
        "\n",
        "print(df.head())"
      ],
      "metadata": {
        "id": "ok_4_TzDcUVx"
      },
      "execution_count": null,
      "outputs": []
    },
    {
      "cell_type": "code",
      "source": [
        "\"\"\"3) Вывести последние пять строк\"\"\"\n",
        "\n",
        "print(df.tail())"
      ],
      "metadata": {
        "id": "eqCkH1FlcX2E"
      },
      "execution_count": null,
      "outputs": []
    },
    {
      "cell_type": "code",
      "source": [
        "\"\"\"4) Вывести случайные пять строк\"\"\"\n",
        "\n",
        "print(df.sample(n=5))"
      ],
      "metadata": {
        "id": "ZjoCZi-1cbBm"
      },
      "execution_count": null,
      "outputs": []
    },
    {
      "cell_type": "code",
      "source": [
        "\"\"\"5) Создать две копии таблицы\"\"\"\n",
        "\n",
        "df1=df.copy(deep=True)\n",
        "df2=df.copy(deep=True)"
      ],
      "metadata": {
        "id": "IsiXFFCscc1I"
      },
      "execution_count": null,
      "outputs": []
    },
    {
      "cell_type": "code",
      "source": [
        "\"\"\"6) Удалить пустые значения в колонке\"\"\"\n",
        "\n",
        "df1['Cabin'] = df2['Cabin'].fillna('')\n",
        "\n",
        "print(df1.head())"
      ],
      "metadata": {
        "id": "bTU0eJpFcdEr"
      },
      "execution_count": null,
      "outputs": []
    },
    {
      "cell_type": "code",
      "source": [
        "\"\"\"7) Заменить пустые ячейки в колонке\"\"\"\n",
        "\n",
        "df2['Cabin'] = df2['Cabin'].fillna('None')\n",
        "\n",
        "print(df2.tail())"
      ],
      "metadata": {
        "id": "FO9tbMj5cf8G"
      },
      "execution_count": null,
      "outputs": []
    },
    {
      "cell_type": "code",
      "source": [
        "\"\"\"8) Найти среднее значение столбца\"\"\"\n",
        "\n",
        "print('mean of Age:',df['Age'].mean())"
      ],
      "metadata": {
        "id": "CJtOPnnpchfk"
      },
      "execution_count": null,
      "outputs": []
    },
    {
      "cell_type": "code",
      "source": [
        "\"\"\"9) Уникальные варианты (категориальные)\"\"\"\n",
        "\n",
        "print('number of unique in Embarked:',df['Embarked'].nunique())\n",
        "\n",
        "print('unique of Embarked:',df['Embarked'].unique())"
      ],
      "metadata": {
        "id": "nRCul6m3cjZN"
      },
      "execution_count": null,
      "outputs": []
    },
    {
      "cell_type": "code",
      "source": [
        "\"\"\"10) Заменить второй и третий объект в любой столбце\"\"\"\n",
        "\n",
        "df.loc[2,'PassengerId'] = 15\n",
        "\n",
        "df.loc[3,'PassengerId'] = 19\n",
        "\n",
        "print(df.head())"
      ],
      "metadata": {
        "id": "GsAQHUUbco2D"
      },
      "execution_count": null,
      "outputs": []
    },
    {
      "cell_type": "code",
      "source": [
        "\"\"\"11) Создать две таблицы 3х3 и объединить их\"\"\"\n",
        "\n",
        "sm1= pd.DataFrame({\n",
        "    'food':['yes','no',np.nan],\n",
        "    'drink':['no','no','yes'],\n",
        "    'sofa':['yes','yes','yes']\n",
        "    })\n",
        "\n",
        "sm2= pd.DataFrame({\n",
        "    'cinema':['no','yes','no'],\n",
        "    'theatre':['yes','no',np.nan],\n",
        "    'shop':['no','no','no']\n",
        "    })\n",
        "\n",
        "smf=sm1.join(sm2)\n",
        "print(smf)"
      ],
      "metadata": {
        "id": "AZsZStRpctGu"
      },
      "execution_count": null,
      "outputs": []
    },
    {
      "cell_type": "code",
      "source": [
        "\"\"\"12) Сохранить таблицу в формате csv\"\"\"\n",
        "\n",
        "smf.to_csv('gotovo.csv')"
      ],
      "metadata": {
        "id": "D__LQq-hcte9"
      },
      "execution_count": null,
      "outputs": []
    }
  ]
}